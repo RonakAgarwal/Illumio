{
 "cells": [
  {
   "cell_type": "markdown",
   "metadata": {},
   "source": [
    "# Test in notebook"
   ]
  },
  {
   "cell_type": "code",
   "execution_count": 11,
   "metadata": {},
   "outputs": [],
   "source": [
    "import csv\n",
    "from collections import Counter\n",
    "\n",
    "def read_log_file(file_path):\n",
    "    with open(file_path, 'r') as f:\n",
    "        first_line = f.readline().strip()\n",
    "        f.seek(0)  # Reset file pointer to the beginning\n",
    "        if ',' in first_line:\n",
    "            return [line.strip().split(',') for line in f]\n",
    "        else:\n",
    "            return [line.split() for line in f]\n",
    "\n",
    "def read_lookup_file(file_path):\n",
    "    with open(file_path, 'r') as f:\n",
    "        return list(csv.reader(f))\n",
    "\n",
    "def print_port_protocol_table(log_file):\n",
    "    logs = read_log_file(log_file)\n",
    "    combinations = Counter((row[5], row[7]) for row in logs)\n",
    "    \n",
    "    print(\"Port/Protocol Counts:\")\n",
    "    print(\"Port,Protocol,Count\")\n",
    "    for (port, protocol), count in combinations.items():\n",
    "        print(f\"{port},{protocol},{count}\")\n",
    "\n",
    "def print_category_count_table(log_file, lookup_file):\n",
    "    logs = read_log_file(log_file)\n",
    "    lookup = {(row[0], row[1]): row[2] for row in read_lookup_file(lookup_file)}\n",
    "    \n",
    "    combinations = Counter((row[5], row[7]) for row in logs)\n",
    "    categories = Counter(lookup.get((port, 'tcp' if protocol == '6' else 'udp'), 'Untagged')\n",
    "                         for (port, protocol) in combinations)\n",
    "    \n",
    "    print(\"\\nTag Counts:\")\n",
    "    print(\"Tag,Count\")\n",
    "    for category, count in categories.items():\n",
    "        print(f\"{category},{count}\")"
   ]
  },
  {
   "cell_type": "code",
   "execution_count": 9,
   "metadata": {},
   "outputs": [
    {
     "name": "stdout",
     "output_type": "stream",
     "text": [
      "Port/Protocol Counts:\n",
      "Port,Protocol,Count\n",
      "443,6,1\n",
      "23,6,1\n",
      "25,6,1\n",
      "110,6,1\n",
      "993,6,1\n",
      "143,6,1\n",
      "1024,6,1\n",
      "80,6,1\n",
      "1030,6,1\n",
      "56000,6,1\n",
      "49321,6,1\n",
      "49152,6,1\n",
      "49153,6,1\n",
      "49154,6,1\n"
     ]
    }
   ],
   "source": [
    "space_log_file = 'flow_logs_space.log'\n",
    "lookup_file = 'category_lookup.csv'\n",
    "\n",
    "\n",
    "print_port_protocol_table(space_log_file)\n"
   ]
  },
  {
   "cell_type": "code",
   "execution_count": 10,
   "metadata": {},
   "outputs": [
    {
     "name": "stdout",
     "output_type": "stream",
     "text": [
      "\n",
      "Tag Counts:\n",
      "Tag,Count\n",
      "sv_P2,1\n",
      "sv_P1,2\n",
      "email,3\n",
      "Untagged,8\n"
     ]
    }
   ],
   "source": [
    "print_category_count_table(space_log_file, lookup_file)"
   ]
  },
  {
   "cell_type": "code",
   "execution_count": null,
   "metadata": {},
   "outputs": [],
   "source": []
  }
 ],
 "metadata": {
  "kernelspec": {
   "display_name": "Python 3",
   "language": "python",
   "name": "python3"
  },
  "language_info": {
   "codemirror_mode": {
    "name": "ipython",
    "version": 3
   },
   "file_extension": ".py",
   "mimetype": "text/x-python",
   "name": "python",
   "nbconvert_exporter": "python",
   "pygments_lexer": "ipython3",
   "version": "3.12.2"
  }
 },
 "nbformat": 4,
 "nbformat_minor": 2
}
